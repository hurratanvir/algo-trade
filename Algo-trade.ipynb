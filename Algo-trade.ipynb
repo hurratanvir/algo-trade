{
 "cells": [
  {
   "cell_type": "markdown",
   "metadata": {},
   "source": [
    "<h3>The first cell setup the initialization process. It needs to be run <b>once</b> only<h3>"
   ]
  },
  {
   "cell_type": "code",
   "execution_count": 6,
   "metadata": {},
   "outputs": [
    {
     "data": {
      "text/html": [
       "<div>\n",
       "<style scoped>\n",
       "    .dataframe tbody tr th:only-of-type {\n",
       "        vertical-align: middle;\n",
       "    }\n",
       "\n",
       "    .dataframe tbody tr th {\n",
       "        vertical-align: top;\n",
       "    }\n",
       "\n",
       "    .dataframe thead th {\n",
       "        text-align: right;\n",
       "    }\n",
       "</style>\n",
       "<table border=\"1\" class=\"dataframe\">\n",
       "  <thead>\n",
       "    <tr style=\"text-align: right;\">\n",
       "      <th></th>\n",
       "      <th>Security Code</th>\n",
       "      <th>Security Id</th>\n",
       "      <th>Security Name</th>\n",
       "      <th>Group</th>\n",
       "      <th>Face Value</th>\n",
       "      <th>ISIN No</th>\n",
       "      <th>Industry</th>\n",
       "    </tr>\n",
       "  </thead>\n",
       "  <tbody>\n",
       "    <tr>\n",
       "      <th>0</th>\n",
       "      <td>500002</td>\n",
       "      <td>ABB</td>\n",
       "      <td>ABB India Limited</td>\n",
       "      <td>B</td>\n",
       "      <td>2.0</td>\n",
       "      <td>INE117A01022</td>\n",
       "      <td>Heavy Electrical Equipment</td>\n",
       "    </tr>\n",
       "  </tbody>\n",
       "</table>\n",
       "</div>"
      ],
      "text/plain": [
       "   Security Code Security Id      Security Name Group  Face Value  \\\n",
       "0         500002         ABB  ABB India Limited    B          2.0   \n",
       "\n",
       "        ISIN No                    Industry  \n",
       "0  INE117A01022  Heavy Electrical Equipment  "
      ]
     },
     "execution_count": 6,
     "metadata": {},
     "output_type": "execute_result"
    }
   ],
   "source": [
    "#import bselib.bse as bsl\n",
    "import numpy as np\n",
    "import pandas as pd\n",
    "import requests\n",
    "import json\n",
    "import time\n",
    "#from nsetools import Nse\n",
    "import tkinter as tk\n",
    "from tkinter import ttk\n",
    "import pickle as pk\n",
    "#nse = Nse()\n",
    "#import os\n",
    "#os.chdir('D:\\my_jupyter_output')\n",
    "#bl = bsl.BSE()\n",
    "ticker_df = pd.read_csv('https://raw.githubusercontent.com/hurratanvir/algo-trade/master/Equity.csv?token=AOUGP5AQCC7RSHBJGIQDNLK67FQTO')\n",
    "api_call_counter = 0\n",
    "ticker_df.head(1)"
   ]
  },
  {
   "cell_type": "code",
   "execution_count": 53,
   "metadata": {},
   "outputs": [],
   "source": [
    "#API - Hurratanvir - BZHR969I14TKHTOV\n",
    "#API - tanvirhurra - ETKZ6NPINJJXZ5MM\n",
    "#API - tanveer_bmba2k19 - RW7OL5Y3XB452GYC\n",
    "#API - rediffmail - LC02KQHE08R3EC52"
   ]
  },
  {
   "cell_type": "code",
   "execution_count": 2,
   "metadata": {},
   "outputs": [],
   "source": [
    "def select_api():\n",
    "    global api_call_counter\n",
    "    api = ['BZHR969I14TKHTOV','ETKZ6NPINJJXZ5MM','RW7OL5Y3XB452GYC','LC02KQHE08R3EC52']\n",
    "    key = api[api_call_counter]\n",
    "    api_call_counter += 1\n",
    "    if(api_call_counter >= len(api)):\n",
    "        api_call_counter = 0\n",
    "    return key"
   ]
  },
  {
   "cell_type": "code",
   "execution_count": 4,
   "metadata": {},
   "outputs": [],
   "source": [
    "def populate_tab_portfolio(parent, child):\n",
    "    parent.add(child, text ='Portfolio') \n",
    "    top_desc = ttk.Label(child, text = 'Total Companies in the Portfolio:')\n",
    "    top_desc.grid(row =0, column = 0)\n",
    "    top_desc_n = ttk.Label(child, text = '55')\n",
    "    top_desc_n.grid(row =0, column = 2)\n",
    "    try:\n",
    "        top_desc_n['text'] = str(len(read_file(f_name)))\n",
    "    except:\n",
    "        top_desc_n['text'] = 0\n",
    "    \n",
    "    counter = 1\n",
    "    try:\n",
    "        data = read_file(f_name)\n",
    "        #print(data)\n",
    "        for i in data:\n",
    "            ttk.Label(child, text = i).grid(row = counter, column = 0, sticky = 'W')\n",
    "            ttk.Label(child, text = data[i]).grid(row = counter, column = 1, sticky = 'W')\n",
    "            i = ttk.Button(child, text = 'Remove', command = lambda i=i: rem_comp(parent, child, i)).grid(row = counter, column = 2, sticky = 'E')\n",
    "            counter+=1\n",
    "    except:\n",
    "        #c_ticker['text'] = 'You have nothing added yet'\n",
    "        pass\n",
    "    #container = ttk.Frame(root)\n",
    "    canvas = tk.Canvas(child)\n",
    "    scrollbar = ttk.Scrollbar(canvas, orient=\"vertical\", command=canvas.yview)\n",
    "    e = ttk.Entry(child)\n",
    "    e.grid(column = 0, row = counter, ipadx = 30, columnspan = 2, pady =10, padx = 2)\n",
    "    searchButton =ttk.Button(child, text = 'Search', command = lambda:callbac(e, c_ticker, add_company, counter))\n",
    "    searchButton.grid(row = counter, column = 2, pady =10)\n",
    "    c_ticker = ttk.Label(child)\n",
    "    counter+=1\n",
    "    c_ticker.grid(row =counter, column = 0, ipadx = 30, columnspan = 2,padx = 2)\n",
    "    add_company = ttk.Button(child, text = 'Add Company to the Portfolio', command = lambda:add_comp_to_port(parent, child,e, c_ticker, add_company))\n",
    "def rem_comp(parent, child, event):\n",
    "    y = read_file(f_name)\n",
    "    del y[event]\n",
    "    save_file(f_name, y)\n",
    "    for widget in child.winfo_children():\n",
    "        widget.destroy()\n",
    "    populate_tab_portfolio(parent, child)\n",
    "    \n",
    "    \n",
    "def callbac(e, lbl, add_company, counter):\n",
    "    c_name = ticker_df[ticker_df['Security Id'] == e.get().upper()]['Security Name']\n",
    "    if(len(c_name)==0):\n",
    "        c_name = 'Nothing Found!!!'\n",
    "        add_company.grid_forget()\n",
    "    else:\n",
    "        c_name = c_name.iloc[0]\n",
    "        add_company.grid(row = counter, column = 4)\n",
    "    lbl['text'] = c_name\n",
    "    \n",
    "def add_comp_to_port(parent, child, e, c_ticker, add_company):\n",
    "    tick = ticker_df[ticker_df['Security Id'] == e.get().upper()]['Security Id'].iloc[0]\n",
    "    s_id = ticker_df[ticker_df['Security Id'] == e.get().upper()]['Security Code'].iloc[0]\n",
    "    try:\n",
    "        y = read_file(f_name)\n",
    "        if(s_id in y):\n",
    "            c_ticker['text'] = 'Company already exists in the portfolio'\n",
    "            add_company.grid_forget()\n",
    "        else:\n",
    "            y[s_id] = tick\n",
    "            save_file(f_name, y)\n",
    "            c_ticker['text'] = 'Company added to the Portfolio'\n",
    "            for widget in child.winfo_children():\n",
    "                widget.destroy()\n",
    "            populate_tab_portfolio(parent, child)\n",
    "            #add_company.grid_forget()\n",
    "            \n",
    "    except:\n",
    "        y = {}\n",
    "        y[s_id] = tick\n",
    "        save_file(f_name, y)\n",
    "        for widget in child.winfo_children():\n",
    "                widget.destroy()\n",
    "        populate_tab_portfolio(parent, child)"
   ]
  },
  {
   "cell_type": "code",
   "execution_count": 5,
   "metadata": {},
   "outputs": [],
   "source": [
    "root = tk.Tk()\n",
    "tabControl = ttk.Notebook(root)\n",
    "tab_portfolio = ttk.Frame(tabControl) \n",
    "tab_pead = ttk.Frame(tabControl) \n",
    "\n",
    "tabControl.add(tab_portfolio, text ='Portfolio') \n",
    "tabControl.add(tab_pead, text ='PEAD') \n",
    "tabControl.pack(expand = 1, fill =\"both\") \n",
    "populate_tab_portfolio(tabControl, tab_portfolio) \n",
    "#ttk.Label(tab1,  text =\"Welcome to \\ GeeksForGeeks\").grid(column = 0,  row = 0, padx = 30, pady = 30)   \n",
    "ttk.Label(tab_pead, text =\"Lets dive into the\\ world of computers\").grid(column = 0, row = 0,  padx = 30, pady = 30) \n",
    "tabControl.config(width = 760, height = 500)\n",
    "root.mainloop()"
   ]
  },
  {
   "cell_type": "code",
   "execution_count": 55,
   "metadata": {},
   "outputs": [],
   "source": [
    "def get_me_stat(company_number, which_stat = \"yoy_results\"):\n",
    "    fin = bl.historical_stats(company_number, stats=which_stat)\n",
    "    if(len(fin) <=1 ):\n",
    "        return 'search_error'\n",
    "    mydf = pd.DataFrame(columns = list(fin.keys()))\n",
    "    for i in range(len(list(fin.keys()))):\n",
    "        mydf[mydf.columns[i]] = list(fin[list(fin.keys())[i]].values())\n",
    "    mydf.set_index(mydf.columns[0], inplace = True)\n",
    "    return mydf"
   ]
  },
  {
   "cell_type": "code",
   "execution_count": 56,
   "metadata": {},
   "outputs": [],
   "source": [
    "def get_daily_timeseries(company):\n",
    "   # time.sleep(5)\n",
    "    api = select_api()\n",
    "    company = company + '.bse'\n",
    "    url = 'https://www.alphavantage.co/query?function=TIME_SERIES_DAILY&symbol='+company+'&apikey=' + api\n",
    "    r = requests.get(url).json()\n",
    "    try:\n",
    "        rr = r[list(r.keys())[1]]\n",
    "    except:\n",
    "        print(r)\n",
    "    my_df = pd.DataFrame()\n",
    "    for x in rr.keys():\n",
    "        my_df = my_df.append(rr[x], ignore_index = True)\n",
    "    my_df.columns = ['open','high','low','close','volume']\n",
    "    my_df.insert(0,'Date',rr.keys())\n",
    "    my_df.set_index('Date', inplace = True)\n",
    "    my_df = my_df.astype('float')\n",
    "    return my_df"
   ]
  },
  {
   "cell_type": "code",
   "execution_count": 57,
   "metadata": {},
   "outputs": [],
   "source": [
    " def get_return(stock_data):\n",
    "    stock_data['avg'] = stock_data[stock_data.columns[0:4]].sum(axis = 1)/4\n",
    "    stock_data['return'] = (stock_data['avg'] - stock_data['avg'].shift(-1))/stock_data['avg'].shift(-1)\n",
    "    return stock_data"
   ]
  },
  {
   "cell_type": "code",
   "execution_count": 58,
   "metadata": {},
   "outputs": [],
   "source": [
    "def get_momentum(company):\n",
    "    df = get_daily_timeseries(company)\n",
    "    get_return(df)\n",
    "    #print('completed')\n",
    "    return (df[0:90]['return']+1).product() - 1"
   ]
  },
  {
   "cell_type": "code",
   "execution_count": 59,
   "metadata": {},
   "outputs": [],
   "source": [
    "def get_me_sue(comp_number):\n",
    "    income_df = get_me_stat(comp_number, \"yoy_results\")\n",
    "    bs_df = get_me_stat(comp_number, \"balancesheet\")\n",
    "    cf_df = get_me_stat(comp_number, \"cashflow\")\n",
    "    if(isinstance(income_df,str) | isinstance(bs_df,str) or isinstance(cf_df,str)):\n",
    "        return None\n",
    "    #df.drop('TTM', inplace = True, axis = 1)\n",
    "    x = [float(i) for i in income_df.iloc[-2].values]\n",
    "    y = x[-1] - np.mean(x[-5:-1])\n",
    "    y = y/np.std(x[-5:-1])\n",
    "    return y"
   ]
  },
  {
   "cell_type": "markdown",
   "metadata": {},
   "source": [
    "x = b.getScripCodes()\n",
    "bl.comp_profile('523395')['symbol'].split('.')[0]"
   ]
  },
  {
   "cell_type": "code",
   "execution_count": 60,
   "metadata": {},
   "outputs": [],
   "source": [
    "#dd = bl.historical_stats(590116, 'balancesheet')"
   ]
  },
  {
   "cell_type": "code",
   "execution_count": 61,
   "metadata": {},
   "outputs": [],
   "source": [
    "#c_df = pd.read_csv('Equity.csv')\n",
    "#s_df = pd.read_csv('sensex.csv')"
   ]
  },
  {
   "cell_type": "markdown",
   "metadata": {},
   "source": [
    "count = 0\n",
    "for i in range(len(s_df)):\n",
    "    nse_p = float(nse.get_quote(s_df['Ticker'][i])['closePrice'])\n",
    "    bse_p = float(bl.quote(s_df['Security Code'][i])['stockPrice'])\n",
    "    arb = abs(nse_p-bse_p)\n",
    "    if(arb >= 1):\n",
    "        print('Arbitrage found')\n",
    "        print('Comapny is '+s_df['COMPANY'][i]+' and the diff is '+ str(arb))\n",
    "    count += 1\n",
    "    print('completed '+ str(count)+' companies')"
   ]
  },
  {
   "cell_type": "code",
   "execution_count": 3,
   "metadata": {},
   "outputs": [],
   "source": [
    "f_name = 'portfolio_list.pickle'\n",
    "def read_file(file_name):\n",
    "    pickle_in = open(file_name, 'rb')\n",
    "    data = pk.load(pickle_in)\n",
    "    pickle_in.close()\n",
    "    return data\n",
    "\n",
    "def save_file(file_name, data):\n",
    "    pickle_out = open(file_name, 'wb')\n",
    "    pk.dump(data, pickle_out)\n",
    "    pickle_out.close()"
   ]
  },
  {
   "cell_type": "code",
   "execution_count": 65,
   "metadata": {},
   "outputs": [],
   "source": [
    "x = {'a':'tanvir','b':'sajad'}"
   ]
  },
  {
   "cell_type": "code",
   "execution_count": 66,
   "metadata": {},
   "outputs": [],
   "source": [
    "#conda update jupyter"
   ]
  },
  {
   "cell_type": "code",
   "execution_count": null,
   "metadata": {},
   "outputs": [],
   "source": []
  }
 ],
 "metadata": {
  "kernelspec": {
   "display_name": "Python 3",
   "language": "python",
   "name": "python3"
  },
  "language_info": {
   "codemirror_mode": {
    "name": "ipython",
    "version": 3
   },
   "file_extension": ".py",
   "mimetype": "text/x-python",
   "name": "python",
   "nbconvert_exporter": "python",
   "pygments_lexer": "ipython3",
   "version": "3.7.4"
  }
 },
 "nbformat": 4,
 "nbformat_minor": 4
}
